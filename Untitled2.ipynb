{
  "nbformat": 4,
  "nbformat_minor": 0,
  "metadata": {
    "colab": {
      "provenance": [],
      "authorship_tag": "ABX9TyOaWeO/75YspEV4gwsAbqke",
      "include_colab_link": true
    },
    "kernelspec": {
      "name": "python3",
      "display_name": "Python 3"
    },
    "language_info": {
      "name": "python"
    }
  },
  "cells": [
    {
      "cell_type": "markdown",
      "metadata": {
        "id": "view-in-github",
        "colab_type": "text"
      },
      "source": [
        "<a href=\"https://colab.research.google.com/github/mahdichaouachi/gomycode/blob/main/Untitled2.ipynb\" target=\"_parent\"><img src=\"https://colab.research.google.com/assets/colab-badge.svg\" alt=\"Open In Colab\"/></a>"
      ]
    },
    {
      "cell_type": "code",
      "execution_count": 14,
      "metadata": {
        "id": "klceIetwMCwy",
        "colab": {
          "base_uri": "https://localhost:8080/"
        },
        "outputId": "be5b935a-2036-4745-ca63-688a9f8ce434"
      },
      "outputs": [
        {
          "output_type": "stream",
          "name": "stdout",
          "text": [
            "first number :2\n",
            "enter operation :G\n",
            "second number :3\n",
            "erorr\n"
          ]
        }
      ],
      "source": [
        "# input first number\n",
        "\n",
        "first_number =int(input(\"first number :\"))\n",
        "\n",
        "\n",
        "\n",
        "\n",
        "# input operation\n",
        "\n",
        "operation = input (\"enter operation :\")\n",
        "\n",
        "#input second number\n",
        "\n",
        "second_number = int(input(\"second number :\"))\n",
        "\n",
        "#print the result\n",
        "\n",
        "if operation == \"+\" :\n",
        "  print(first_number + second_number)\n",
        "elif operation == \"-\" :\n",
        " print (first_number - second_number)\n",
        "elif operation == \"*\" :\n",
        " print(first_number * second_number)\n",
        "elif operation == \"/\" :\n",
        " print(first_number / second_number)\n",
        "else :\n",
        " print (\"erorr\")\n",
        "\n"
      ]
    }
  ]
}