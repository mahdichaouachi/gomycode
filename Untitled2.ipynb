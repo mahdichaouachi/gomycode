{
  "nbformat": 4,
  "nbformat_minor": 0,
  "metadata": {
    "colab": {
      "provenance": [],
      "authorship_tag": "ABX9TyPTpitSL8RTBd9tufjRqpRQ",
      "include_colab_link": true
    },
    "kernelspec": {
      "name": "python3",
      "display_name": "Python 3"
    },
    "language_info": {
      "name": "python"
    }
  },
  "cells": [
    {
      "cell_type": "markdown",
      "metadata": {
        "id": "view-in-github",
        "colab_type": "text"
      },
      "source": [
        "<a href=\"https://colab.research.google.com/github/mahdichaouachi/gomycode/blob/main/Untitled2.ipynb\" target=\"_parent\"><img src=\"https://colab.research.google.com/assets/colab-badge.svg\" alt=\"Open In Colab\"/></a>"
      ]
    },
    {
      "cell_type": "code",
      "execution_count": 31,
      "metadata": {
        "id": "klceIetwMCwy",
        "colab": {
          "base_uri": "https://localhost:8080/"
        },
        "outputId": "44a6e0b0-f0e4-4baa-b770-723deb8466b3"
      },
      "outputs": [
        {
          "output_type": "stream",
          "name": "stdout",
          "text": [
            "first number :2\n",
            "operation /*\n",
            "first number :4\n",
            "8.0\n",
            "0.5\n",
            "do you want to perform an other operation(y/n)Y\n",
            "first number :2\n",
            "operation /*\n",
            "first number :4\n",
            "8.0\n",
            "0.5\n",
            "do you want to perform an other operation(y/n)N\n",
            "first number :2\n",
            "operation /+\n",
            "first number :2\n",
            "4.0\n",
            "do you want to perform an other operation(y/n)n\n",
            "programe closed\n"
          ]
        }
      ],
      "source": [
        "while True :\n",
        "\n",
        "  first_number = float(input(\"first number :\"))\n",
        "\n",
        "  operation = (input(\"operation /\"))\n",
        "\n",
        "\n",
        "  second_number = float(input(\"first number :\"))\n",
        "\n",
        "  if operation ==\"+\" :\n",
        "    print(first_number + second_number)\n",
        "  elif operation == \"-\" :\n",
        "    print(first_number - second_number)\n",
        "  elif operation == \"*\" :\n",
        "    print(first_number * second_number)\n",
        "\n",
        "    print(first_number / second_number)\n",
        "  else :\n",
        "    print(\"error\")\n",
        "\n",
        "  reapeat = (input(\"do you want to perform an other operation(y/n)\"))\n",
        "\n",
        "  if reapeat == \"n\" :\n",
        "    break\n",
        "print(\"programe closed\")\n",
        "\n",
        "\n",
        "\n",
        "\n",
        "\n",
        "\n"
      ]
    }
  ]
}